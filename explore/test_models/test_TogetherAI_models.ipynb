{
 "cells": [
  {
   "cell_type": "markdown",
   "metadata": {},
   "source": [
    "Load environment variables that include `OPENAI_API_KEY` and `TOGETHER_API_KEY.`"
   ]
  },
  {
   "cell_type": "code",
   "execution_count": 16,
   "metadata": {},
   "outputs": [],
   "source": [
    "from pyprojroot import here"
   ]
  },
  {
   "cell_type": "code",
   "execution_count": 22,
   "metadata": {},
   "outputs": [
    {
     "data": {
      "text/plain": [
       "True"
      ]
     },
     "execution_count": 22,
     "metadata": {},
     "output_type": "execute_result"
    }
   ],
   "source": [
    "from dotenv import load_dotenv\n",
    "\n",
    "load_dotenv(here(\".env\"))"
   ]
  },
  {
   "cell_type": "code",
   "execution_count": 2,
   "metadata": {},
   "outputs": [],
   "source": [
    "from langchain_together import ChatTogether\n",
    "from langchain_openai import ChatOpenAI"
   ]
  },
  {
   "cell_type": "markdown",
   "metadata": {},
   "source": [
    "Generate response use `ChatOpenAI`."
   ]
  },
  {
   "cell_type": "code",
   "execution_count": 3,
   "metadata": {},
   "outputs": [],
   "source": [
    "openai_llm = ChatOpenAI(\n",
    "    model='gpt-4o-mini',\n",
    "    temperature=0.5\n",
    ")"
   ]
  },
  {
   "cell_type": "code",
   "execution_count": 4,
   "metadata": {},
   "outputs": [],
   "source": [
    "messages = [\n",
    "    (\n",
    "        \"system\",\n",
    "        \"You are an experienced Data Analyst with extensive knowledge in SQL and database querying. Convert natural language questions into SQL queries.\"\n",
    "    ),\n",
    "    (\"human\", \"Show me total sales by product category for last month.\")\n",
    "]"
   ]
  },
  {
   "cell_type": "code",
   "execution_count": 6,
   "metadata": {},
   "outputs": [],
   "source": [
    "result = openai_llm.invoke(messages)"
   ]
  },
  {
   "cell_type": "code",
   "execution_count": 7,
   "metadata": {},
   "outputs": [
    {
     "name": "stdout",
     "output_type": "stream",
     "text": [
      "To retrieve the total sales by product category for the last month, you can use the following SQL query. This assumes you have a table named `sales` with columns `product_category`, `sale_amount`, and `sale_date`.\n",
      "\n",
      "```sql\n",
      "SELECT \n",
      "    product_category, \n",
      "    SUM(sale_amount) AS total_sales\n",
      "FROM \n",
      "    sales\n",
      "WHERE \n",
      "    sale_date >= DATE_TRUNC('month', CURRENT_DATE - INTERVAL '1 month')\n",
      "    AND sale_date < DATE_TRUNC('month', CURRENT_DATE)\n",
      "GROUP BY \n",
      "    product_category\n",
      "ORDER BY \n",
      "    total_sales DESC;\n",
      "```\n",
      "\n",
      "This query calculates the total sales for each product category for the previous month and orders the results by total sales in descending order. Adjust the table and column names as necessary to fit your database schema.\n"
     ]
    }
   ],
   "source": [
    "print(result.content)"
   ]
  },
  {
   "cell_type": "markdown",
   "metadata": {},
   "source": [
    "Try to generate response with other models:\n",
    "- [x] meta-llama/Llama-3.3-70B-Instruct-Turbo\n",
    "- [x] Qwen/Qwen2.5-Coder-32B-Instruct"
   ]
  },
  {
   "cell_type": "code",
   "execution_count": 8,
   "metadata": {},
   "outputs": [],
   "source": [
    "llama_llm = ChatTogether(\n",
    "    model=\"meta-llama/Llama-3.3-70B-Instruct-Turbo\",\n",
    "    temperature=0\n",
    ")"
   ]
  },
  {
   "cell_type": "code",
   "execution_count": 9,
   "metadata": {},
   "outputs": [],
   "source": [
    "result = llama_llm.invoke(messages)"
   ]
  },
  {
   "cell_type": "code",
   "execution_count": 11,
   "metadata": {},
   "outputs": [
    {
     "name": "stdout",
     "output_type": "stream",
     "text": [
      "To show the total sales by product category for the last month, we can use the following SQL query:\n",
      "\n",
      "```sql\n",
      "SELECT \n",
      "    pc.category_name, \n",
      "    SUM(oi.quantity * oi.unit_price) AS total_sales\n",
      "FROM \n",
      "    order_items oi\n",
      "JOIN \n",
      "    products p ON oi.product_id = p.product_id\n",
      "JOIN \n",
      "    product_categories pc ON p.category_id = pc.category_id\n",
      "WHERE \n",
      "    EXTRACT(MONTH FROM oi.order_date) = EXTRACT(MONTH FROM CURRENT_DATE - INTERVAL '1 month')\n",
      "    AND EXTRACT(YEAR FROM oi.order_date) = EXTRACT(YEAR FROM CURRENT_DATE - INTERVAL '1 month')\n",
      "GROUP BY \n",
      "    pc.category_name\n",
      "ORDER BY \n",
      "    total_sales DESC;\n",
      "```\n",
      "\n",
      "This query assumes the following:\n",
      "\n",
      "- `order_items` table contains the order details with `order_date`, `product_id`, `quantity`, and `unit_price`.\n",
      "- `products` table contains the product details with `product_id` and `category_id`.\n",
      "- `product_categories` table contains the category details with `category_id` and `category_name`.\n",
      "\n",
      "The query joins these tables based on the corresponding IDs, filters the data for the last month, and groups the results by product category. The `SUM` function calculates the total sales for each category, and the results are sorted in descending order by total sales.\n",
      "\n",
      "Note: The date functions used in the query (e.g., `EXTRACT`, `CURRENT_DATE`, `INTERVAL`) may vary depending on the specific database management system being used. The above query is written in a generic SQL syntax and may need to be adjusted for the specific database system. \n",
      "\n",
      "For example, in MySQL, you would use the `MONTH` and `YEAR` functions instead of `EXTRACT`, and the `CURDATE` function instead of `CURRENT_DATE`. The query would look like this:\n",
      "\n",
      "```sql\n",
      "SELECT \n",
      "    pc.category_name, \n",
      "    SUM(oi.quantity * oi.unit_price) AS total_sales\n",
      "FROM \n",
      "    order_items oi\n",
      "JOIN \n",
      "    products p ON oi.product_id = p.product_id\n",
      "JOIN \n",
      "    product_categories pc ON p.category_id = pc.category_id\n",
      "WHERE \n",
      "    MONTH(oi.order_date) = MONTH(CURDATE() - INTERVAL 1 MONTH)\n",
      "    AND YEAR(oi.order_date) = YEAR(CURDATE() - INTERVAL 1 MONTH)\n",
      "GROUP BY \n",
      "    pc.category_name\n",
      "ORDER BY \n",
      "    total_sales DESC;\n",
      "```\n"
     ]
    }
   ],
   "source": [
    "print(result.content)"
   ]
  },
  {
   "cell_type": "code",
   "execution_count": 13,
   "metadata": {},
   "outputs": [],
   "source": [
    "qwen_llm = ChatTogether(\n",
    "    model=\"Qwen/Qwen2.5-Coder-32B-Instruct\",\n",
    "    temperature=0\n",
    ")"
   ]
  },
  {
   "cell_type": "code",
   "execution_count": 14,
   "metadata": {},
   "outputs": [],
   "source": [
    "result = qwen_llm.invoke(messages)"
   ]
  },
  {
   "cell_type": "code",
   "execution_count": 15,
   "metadata": {},
   "outputs": [
    {
     "name": "stdout",
     "output_type": "stream",
     "text": [
      "To generate a SQL query that shows the total sales by product category for the last month, we need to assume a few things about the database schema. Let's assume we have the following tables:\n",
      "\n",
      "- `sales`: This table contains sales transactions with at least the following columns:\n",
      "  - `sale_id`: Unique identifier for each sale.\n",
      "  - `product_id`: Identifier for the product sold.\n",
      "  - `sale_date`: Date of the sale.\n",
      "  - `amount`: Total amount of the sale.\n",
      "\n",
      "- `products`: This table contains product details with at least the following columns:\n",
      "  - `product_id`: Unique identifier for each product.\n",
      "  - `category_id`: Identifier for the product category.\n",
      "\n",
      "- `categories`: This table contains category details with at least the following columns:\n",
      "  - `category_id`: Unique identifier for each category.\n",
      "  - `category_name`: Name of the category.\n",
      "\n",
      "Given this schema, the SQL query to find the total sales by product category for the last month would look like this:\n",
      "\n",
      "```sql\n",
      "SELECT \n",
      "    c.category_name,\n",
      "    SUM(s.amount) AS total_sales\n",
      "FROM \n",
      "    sales s\n",
      "JOIN \n",
      "    products p ON s.product_id = p.product_id\n",
      "JOIN \n",
      "    categories c ON p.category_id = c.category_id\n",
      "WHERE \n",
      "    s.sale_date >= DATE_TRUNC('month', CURRENT_DATE) - INTERVAL '1 month'\n",
      "    AND s.sale_date < DATE_TRUNC('month', CURRENT_DATE)\n",
      "GROUP BY \n",
      "    c.category_name\n",
      "ORDER BY \n",
      "    total_sales DESC;\n",
      "```\n",
      "\n",
      "### Explanation:\n",
      "- **DATE_TRUNC('month', CURRENT_DATE) - INTERVAL '1 month'**: This calculates the first day of the last month.\n",
      "- **DATE_TRUNC('month', CURRENT_DATE)**: This calculates the first day of the current month.\n",
      "- The `WHERE` clause filters the sales to only include those from the last month.\n",
      "- The `JOIN` operations link the `sales` table with the `products` and `categories` tables to get the category names.\n",
      "- The `SUM(s.amount)` function calculates the total sales amount for each category.\n",
      "- The `GROUP BY` clause groups the results by category name.\n",
      "- The `ORDER BY total_sales DESC` clause orders the results by total sales in descending order, so the categories with the highest sales appear first.\n"
     ]
    }
   ],
   "source": [
    "print(result.content)"
   ]
  },
  {
   "cell_type": "code",
   "execution_count": null,
   "metadata": {},
   "outputs": [],
   "source": []
  }
 ],
 "metadata": {
  "kernelspec": {
   "display_name": "tabular-qa-rag-nLVPiNg5",
   "language": "python",
   "name": "python3"
  },
  "language_info": {
   "codemirror_mode": {
    "name": "ipython",
    "version": 3
   },
   "file_extension": ".py",
   "mimetype": "text/x-python",
   "name": "python",
   "nbconvert_exporter": "python",
   "pygments_lexer": "ipython3",
   "version": "3.11.11"
  }
 },
 "nbformat": 4,
 "nbformat_minor": 2
}
